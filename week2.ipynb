{
 "cells": [
  {
   "cell_type": "markdown",
   "source": [
    "## week 2"
   ],
   "metadata": {}
  },
  {
   "cell_type": "code",
   "execution_count": 4,
   "source": [
    "class LayerManager():\r\n",
    "    def __init__(self):\r\n",
    "        self.array = []\r\n",
    "        self.length = len(self.array)\r\n",
    "    def Get(self,index):\r\n",
    "        try:\r\n",
    "            return self.array[index]\r\n",
    "        except:\r\n",
    "            print(\"Error! The input index is outside of the range!\")\r\n",
    "            return None\r\n",
    "    def Insert(self,Input,index = -1):\r\n",
    "        try:\r\n",
    "            if index == -1:\r\n",
    "                self.array.append(Input)\r\n",
    "                self.length = len(self.array)\r\n",
    "            else:\r\n",
    "                self.array.insert(index,Input)\r\n",
    "                self.length = len(self.array)\r\n",
    "        except:\r\n",
    "            print(\"Error! The input index is outside of the range!\")\r\n",
    "            pass\r\n",
    "    def Delete(self,index):\r\n",
    "        try:\r\n",
    "            self.array.pop(index)\r\n",
    "            self.length = len(self.array)\r\n",
    "        except:\r\n",
    "            print(\"Error! The input index is outside of the range!\")\r\n",
    "            pass\r\n",
    "    # def Delete(self,elem):\r\n",
    "    #     try:\r\n",
    "    #         self.array.remove(elem)\r\n",
    "    #         self.length = len(self.array)\r\n",
    "    #     except:\r\n",
    "    #         print(\"Error! The input index is outside of the range!\")\r\n",
    "    #         pass\r\n",
    "    def Modify(self,Input,index):\r\n",
    "        try:\r\n",
    "            self.array[index] = Input\r\n",
    "        except:\r\n",
    "            print(\"Error! The input index is outside of the range!\")\r\n",
    "    def Sort(self):\r\n",
    "        self.array = self.array.sort()\r\n",
    "    def Loop(self):\r\n",
    "        try:\r\n",
    "            for i in range(self.length):\r\n",
    "                print(self.array[i])\r\n",
    "        except:\r\n",
    "            print(\"Error! No Points detected!\")\r\n",
    "\r\n",
    "class Point():\r\n",
    "    def __init__(self):\r\n",
    "        self.array=[]\r\n",
    "        self.length = len(self.array)\r\n",
    "    def Insert(self,Input,index = -1):\r\n",
    "        try:\r\n",
    "            if index == -1:\r\n",
    "                self.array.append(Input)\r\n",
    "                self.length = len(self.array)\r\n",
    "            else:\r\n",
    "                self.array.insert(index,Input)\r\n",
    "                self.length = len(self.array)\r\n",
    "        except:\r\n",
    "            print(\"Error! The input index is outside of the range!\")\r\n",
    "            pass\r\n",
    "    def Delete(self,index):\r\n",
    "        try:\r\n",
    "            del self.array[index]\r\n",
    "            self.length = len(self.array)\r\n",
    "        except:\r\n",
    "            print(\"Error! The input index is larger than the size of Points!\")\r\n",
    "    def Modify(self,Input,index):\r\n",
    "        try:\r\n",
    "            self.array[index] = Input\r\n",
    "        except:\r\n",
    "            print(\"Error! The input index is larger than the size of Points!\")\r\n",
    "    def Loop(self):\r\n",
    "        try:\r\n",
    "            for i in range(self.length):\r\n",
    "                print(self.array[i])\r\n",
    "        except:\r\n",
    "            print(\"Error! No Points detected!\")"
   ],
   "outputs": [],
   "metadata": {}
  },
  {
   "cell_type": "code",
   "execution_count": 9,
   "source": [
    "lm = LayerManager()\r\n",
    "lm.Insert(1)\r\n",
    "lm.Insert(2,0)\r\n",
    "lm.Loop()"
   ],
   "outputs": [
    {
     "output_type": "stream",
     "name": "stdout",
     "text": [
      "2\n",
      "1\n"
     ]
    }
   ],
   "metadata": {}
  }
 ],
 "metadata": {
  "orig_nbformat": 4,
  "language_info": {
   "name": "python",
   "version": "3.9.5",
   "mimetype": "text/x-python",
   "codemirror_mode": {
    "name": "ipython",
    "version": 3
   },
   "pygments_lexer": "ipython3",
   "nbconvert_exporter": "python",
   "file_extension": ".py"
  },
  "kernelspec": {
   "name": "python3",
   "display_name": "Python 3.9.5 64-bit ('base': conda)"
  },
  "interpreter": {
   "hash": "c495afa29b733e6e3ec4298c67a33194e7d3a8d2b680275df2ad1d92cca97507"
  }
 },
 "nbformat": 4,
 "nbformat_minor": 2
}