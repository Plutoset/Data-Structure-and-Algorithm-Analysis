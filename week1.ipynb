{
 "cells": [
  {
   "cell_type": "markdown",
   "source": [
    "## week 1"
   ],
   "metadata": {}
  },
  {
   "cell_type": "code",
   "execution_count": 9,
   "source": [
    "import pandas as pd\r\n",
    "import numpy as np\r\n",
    "table = pd.read_csv(\"1978-2010上海GDP.csv\")\r\n",
    "GDP = table[\"人均生产总值（元）\"]\r\n",
    "GDP = pd.Series.to_numpy(GDP)\r\n",
    "GDPmin = np.min(GDP)\r\n",
    "print(f\"min GDP {GDPmin}\")\r\n",
    "GDPmax = np.max(GDP)\r\n",
    "print(f\"max GDP {GDPmax}\")\r\n",
    "GDPmean = np.mean(GDP)\r\n",
    "print(f\"mean GDP {GDPmean}\")\r\n",
    "GDPcoev = np.std(GDP,ddof=0)/np.mean(GDP)\r\n",
    "print(f\"coefficient of variation in GDP {GDPcoev}\")"
   ],
   "outputs": [
    {
     "output_type": "stream",
     "name": "stdout",
     "text": [
      "min GDP 2485\n",
      "max GDP 78989\n",
      "mean GDP 22519.71875\n",
      "coefficient of variation in GDP 1.0172593066333713\n"
     ]
    }
   ],
   "metadata": {}
  }
 ],
 "metadata": {
  "orig_nbformat": 4,
  "language_info": {
   "name": "python",
   "version": "3.9.5",
   "mimetype": "text/x-python",
   "codemirror_mode": {
    "name": "ipython",
    "version": 3
   },
   "pygments_lexer": "ipython3",
   "nbconvert_exporter": "python",
   "file_extension": ".py"
  },
  "kernelspec": {
   "name": "python3",
   "display_name": "Python 3.9.5 64-bit ('base': conda)"
  },
  "interpreter": {
   "hash": "c495afa29b733e6e3ec4298c67a33194e7d3a8d2b680275df2ad1d92cca97507"
  }
 },
 "nbformat": 4,
 "nbformat_minor": 2
}